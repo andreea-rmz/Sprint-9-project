{
 "cells": [
  {
   "cell_type": "markdown",
   "metadata": {},
   "source": [
    "<div class=\"alert alert-block alert-success\">\n",
    "<b>Comentario general del revisor</b> <a class=\"tocSkip\"></a><br />\n",
    "Status del proyecto: <b>Aprobado</b>\n",
    "</div>\n"
   ]
  },
  {
   "cell_type": "markdown",
   "metadata": {},
   "source": [
    "¡Hola!<br />\n",
    "Soy **Francisco Cortés**, estoy contento de revisar tu proyecto y ser parte de tu proceso de aprendizaje.\n",
    "A lo largo del texto, haré algunas observaciones sobre mejoras en el código y también haré comentarios sobre tus percepciones sobre el tema. Si existe algún error en el código, no te preocupes, estoy aquí para ayudarte a mejorarlo, en la primera iteración te lo señalaré para que tengas la oportunidad de corregirlo, pero si aún no encuentras una solución para esta tarea, te daré una pista más precisa en la próxima iteración y también algunos ejemplos prácticos. Estaré abierto a retroalimentación y discusiones sobre el tema.<br />\n",
    "Encontrarás mis comentarios a continuación - **por favor no los muevas, modifiques o borres**.\n",
    "Revisaré cuidadosamente tu código para comprobar que se han cumplido con los requisitos y te proporcionaré mis comentarios en cajas verdes, amarillas o rojas como esta:\n",
    "\n",
    "<div class=\"alert alert-block alert-success\">\n",
    "<b>Comentario del revisor</b> <a class=\"tocSkip\"></a>\n",
    "\n",
    "Si la ejecución fue perfecta succesfully.\n",
    "</div>\n",
    "\n",
    "<div class=\"alert alert-block alert-warning\">\n",
    "<b>Comentario del revisor</b> <a class=\"tocSkip\"></a>\n",
    "\n",
    "Si existe alguna recomendación para que tu código mejore.\n",
    "</div>\n",
    "\n",
    "<div class=\"alert alert-block alert-danger\">\n",
    "\n",
    "<b>Comentario del revisor</b> <a class=\"tocSkip\"></a>\n",
    "\n",
    "Si existen correcciones necesarias para cumplir con los requisitos. El trabajo no puede ser aceptado si hay alguna caja roja.\n",
    "</div>\n",
    "\n",
    "Puedes responderme de la siguiente manera:\n",
    "\n",
    "<div class=\"alert alert-block alert-info\">\n",
    "<b>Respuesta del estudiante.</b> <a class=\"tocSkip\"></a>\n",
    "</div>\n"
   ]
  },
  {
   "cell_type": "markdown",
   "metadata": {},
   "source": [
    "# 1. Access datasets & prepare for analysis"
   ]
  },
  {
   "cell_type": "code",
   "execution_count": 1,
   "metadata": {},
   "outputs": [
    {
     "name": "stdout",
     "output_type": "stream",
     "text": [
      "<class 'pandas.core.frame.DataFrame'>\n",
      "RangeIndex: 359400 entries, 0 to 359399\n",
      "Data columns (total 5 columns):\n",
      " #   Column     Non-Null Count   Dtype \n",
      "---  ------     --------------   ----- \n",
      " 0   Device     359400 non-null  object\n",
      " 1   End Ts     359400 non-null  object\n",
      " 2   Source Id  359400 non-null  int64 \n",
      " 3   Start Ts   359400 non-null  object\n",
      " 4   Uid        359400 non-null  uint64\n",
      "dtypes: int64(1), object(3), uint64(1)\n",
      "memory usage: 13.7+ MB\n",
      "<class 'pandas.core.frame.DataFrame'>\n",
      "RangeIndex: 50415 entries, 0 to 50414\n",
      "Data columns (total 3 columns):\n",
      " #   Column   Non-Null Count  Dtype  \n",
      "---  ------   --------------  -----  \n",
      " 0   Buy Ts   50415 non-null  object \n",
      " 1   Revenue  50415 non-null  float64\n",
      " 2   Uid      50415 non-null  uint64 \n",
      "dtypes: float64(1), object(1), uint64(1)\n",
      "memory usage: 1.2+ MB\n",
      "<class 'pandas.core.frame.DataFrame'>\n",
      "RangeIndex: 2542 entries, 0 to 2541\n",
      "Data columns (total 3 columns):\n",
      " #   Column     Non-Null Count  Dtype  \n",
      "---  ------     --------------  -----  \n",
      " 0   source_id  2542 non-null   int64  \n",
      " 1   dt         2542 non-null   object \n",
      " 2   costs      2542 non-null   float64\n",
      "dtypes: float64(1), int64(1), object(1)\n",
      "memory usage: 59.7+ KB\n"
     ]
    }
   ],
   "source": [
    "import pandas as pd\n",
    "import numpy as np\n",
    "\n",
    "visits = pd.read_csv(\"/datasets/visits_log_us.csv\")\n",
    "orders = pd.read_csv(\"/datasets/orders_log_us.csv\")\n",
    "costs = pd.read_csv(\"/datasets/costs_us.csv\")\n",
    "\n",
    "visits.info()\n",
    "orders.info()\n",
    "costs.info()"
   ]
  },
  {
   "cell_type": "code",
   "execution_count": 2,
   "metadata": {},
   "outputs": [
    {
     "name": "stdout",
     "output_type": "stream",
     "text": [
      "0\n",
      "0\n",
      "0\n"
     ]
    }
   ],
   "source": [
    "# Rename and convert date columns in every dataframe to datetime format\n",
    "\n",
    "visits.rename(columns={\"Device\":\"device\", \"End Ts\": \"end_ts\", \"Source Id\": \"source_id\", \"Start Ts\": \"start_ts\", \"Uid\":\"uid\"}, inplace=True)\n",
    "orders.rename(columns={\"Buy Ts\": \"buy_ts\", \"Revenue\": \"revenue\", \"Uid\":\"uid\"}, inplace=True)\n",
    "\n",
    "visits[\"end_ts\"] = pd.to_datetime(visits[\"end_ts\"])\n",
    "visits[\"start_ts\"] = pd.to_datetime(visits[\"start_ts\"])\n",
    "orders[\"buy_ts\"] = pd.to_datetime(orders[\"buy_ts\"])\n",
    "costs[\"dt\"] = pd.to_datetime(costs[\"dt\"])\n",
    "\n",
    "# Search for duplicated values\n",
    "print(visits.duplicated().sum())\n",
    "print(orders.duplicated().sum())\n",
    "print(costs.duplicated().sum())"
   ]
  },
  {
   "cell_type": "markdown",
   "metadata": {},
   "source": [
    "<div class=\"alert alert-block alert-success\">\n",
    "<b>Comentario del revisor</b> <a class=\"tocSkip\"></a><br />\n",
    "Bien hecho!<br/>\n",
    "\n",
    "Los datos fueron revisados y modificados apropiadamente, ahora se puede empezar a trabajar con ellos comodomente\n",
    "</div>\n"
   ]
  },
  {
   "cell_type": "markdown",
   "metadata": {},
   "source": [
    "# 2. Metrics "
   ]
  },
  {
   "cell_type": "markdown",
   "metadata": {},
   "source": [
    "## 1. Visits\n",
    "1. How many people use Showz every day, week and month?\n",
    "2. How many sessions are there per day? (Single user might have more than 1 session)\n",
    "3. How long is every session?\n",
    "4. How often do users come back?"
   ]
  },
  {
   "cell_type": "code",
   "execution_count": 3,
   "metadata": {},
   "outputs": [
    {
     "name": "stdout",
     "output_type": "stream",
     "text": [
      "Daily average unique users: 908.0\n",
      "Weekly average unique users: 5716.0\n",
      "Monthly average unique users: 23228.0\n"
     ]
    }
   ],
   "source": [
    "# 1. How many people use Showz every day, week and month?\n",
    "\n",
    "visits[\"date\"] = visits[\"start_ts\"].dt.date\n",
    "visits[\"week\"] = visits[\"start_ts\"].dt.to_period(\"W\").dt.to_timestamp()\n",
    "visits[\"month\"] = visits[\"start_ts\"].dt.to_period(\"M\").dt.to_timestamp()\n",
    "\n",
    "daily_users = visits.groupby(\"date\")[\"uid\"].nunique()\n",
    "weekly_users = visits.groupby(\"week\")[\"uid\"].nunique()\n",
    "monthly_users = visits.groupby(\"month\")[\"uid\"].nunique()\n",
    "\n",
    "print(\"Daily average unique users:\", daily_users.mean().round())\n",
    "print(\"Weekly average unique users:\", weekly_users.mean().round())\n",
    "print(\"Monthly average unique users:\", monthly_users.mean().round())"
   ]
  },
  {
   "cell_type": "code",
   "execution_count": 4,
   "metadata": {},
   "outputs": [
    {
     "name": "stdout",
     "output_type": "stream",
     "text": [
      "987.0\n"
     ]
    }
   ],
   "source": [
    "# 2. How many sessions are there per day? (Single user might have more than 1 session)\n",
    "\n",
    "daily_sessions = visits.groupby(\"date\")[\"uid\"].count().mean().round()\n",
    "print(daily_sessions)"
   ]
  },
  {
   "cell_type": "code",
   "execution_count": 5,
   "metadata": {},
   "outputs": [
    {
     "name": "stdout",
     "output_type": "stream",
     "text": [
      "Average session time in mins: 11.0\n"
     ]
    }
   ],
   "source": [
    "# 3. How long is every session?\n",
    "\n",
    "visits[\"duration_min\"] = (\n",
    "    visits[\"end_ts\"] - visits[\"start_ts\"]\n",
    ").dt.total_seconds() / 60\n",
    "avg = visits[\"duration_min\"].mean().round()\n",
    "print(f\"Average session time in mins: {avg}\")\n"
   ]
  },
  {
   "cell_type": "code",
   "execution_count": 6,
   "metadata": {},
   "outputs": [
    {
     "name": "stdout",
     "output_type": "stream",
     "text": [
      "Average days between visits: 27.68\n",
      "Min days between visits: 0.0\n",
      "Max days between visits: 362.0\n"
     ]
    }
   ],
   "source": [
    "# 4. How often do users come back?\n",
    "\n",
    "# Sort by user and session date\n",
    "visits_sorted = visits.sort_values(by=[\"uid\", \"start_ts\"])\n",
    "\n",
    "\n",
    "# Estimate last visit date for every user (for users with at least 2 sessions)\n",
    "visits_sorted[\"previous_visit\"] = visits_sorted.groupby(\"uid\")[\"start_ts\"].shift()\n",
    "\n",
    "# Estimate days since last visit\n",
    "visits_sorted[\"days_since_last_visit\"] = (visits_sorted[\"start_ts\"] - visits_sorted[\"previous_visit\"]).dt.days\n",
    "\n",
    "\n",
    "# Filter users who visited a second time\n",
    "returning_visits = visits_sorted.dropna(subset=[\"days_since_last_visit\"])\n",
    "\n",
    "# C\n",
    "avg_days_return = returning_visits[\"days_since_last_visit\"].mean()\n",
    "min_days_return = returning_visits[\"days_since_last_visit\"].min()\n",
    "max_days_return = returning_visits[\"days_since_last_visit\"].max()\n",
    "\n",
    "print(f\"Average days between visits: {avg_days_return:.2f}\")\n",
    "print(f\"Min days between visits: {min_days_return}\")\n",
    "print(f\"Max days between visits: {max_days_return}\")"
   ]
  },
  {
   "cell_type": "markdown",
   "metadata": {},
   "source": [
    "<div class=\"alert alert-block alert-success\">\n",
    "<b>Comentario del revisor</b> <a class=\"tocSkip\"></a><br />\n",
    "\n",
    "Buena manera de crear nuevas columnas y de establecer el tipo de dato, esto es muy útil para el correcto manejo de los datos\n",
    "</div>\n"
   ]
  },
  {
   "cell_type": "markdown",
   "metadata": {},
   "source": [
    "## Sales\n",
    "\n",
    "1. When do users start buying?\n",
    "(In KPI analysis, we’re usually interested in the time between registration and conversion — that is, when a user becomes a customer. For example, if registration and the first purchase occur on the same day, the user would fall into the \"Conversion 0d\" category. If the first purchase happens the next day, it would be \"Conversion 1d.\" You can use any approach that allows you to compare conversion timing across different cohorts to determine which cohort or marketing channel is most effective.)\n",
    "\n",
    "2. How many orders do they place over a given period of time?\n",
    "\n",
    "3. What is the average purchase size?\n",
    "\n",
    "4. How much money do they bring? (LTV)"
   ]
  },
  {
   "cell_type": "code",
   "execution_count": 7,
   "metadata": {},
   "outputs": [
    {
     "name": "stdout",
     "output_type": "stream",
     "text": [
      "Days to conversion by cohort\n",
      "   cohort_month  users  avg_days_to_convert\n",
      "0    2017-06-01   2923                 46.0\n",
      "1    2017-07-01   2458                 40.0\n",
      "2    2017-08-01   1721                 33.0\n",
      "3    2017-09-01   3058                 25.0\n",
      "4    2017-10-01   4678                 17.0\n",
      "5    2017-11-01   4262                 15.0\n",
      "6    2017-12-01   4074                 11.0\n",
      "7    2018-01-01   3119                  8.0\n",
      "8    2018-02-01   3186                  5.0\n",
      "9    2018-03-01   2838                  3.0\n",
      "10   2018-04-01   1890                  2.0\n",
      "11   2018-05-01   2316                  1.0\n"
     ]
    }
   ],
   "source": [
    "# 1. When do users start buying?\n",
    "\n",
    "# Get first visit and first purchase for every user \n",
    "\n",
    "first_visit = visits.groupby('uid')['start_ts'].min().reset_index()\n",
    "first_visit.rename(columns={\"start_ts\":\"first_visit\"}, inplace=True)\n",
    "\n",
    "first_order = orders.groupby('uid')['buy_ts'].min().reset_index()\n",
    "first_order.rename(columns={\"buy_ts\":\"first_purchase\"}, inplace=True)\n",
    "\n",
    "# Merge tables\n",
    "\n",
    "cohorts = pd.merge(first_order, first_visit, on='uid',how='inner') # inner deletes all users that never buy\n",
    "# the first user that bought had its first visit the week of 30-05-2017\n",
    "\n",
    "# Build weekly cohorts based on first visit date \n",
    "\n",
    "cohorts['cohort_month'] = (cohorts['first_visit'].dt.to_period('M').dt.to_timestamp().dt.date)\n",
    "\n",
    "# Estimate days until first purchase\n",
    "cohorts['days_to_convert'] = (cohorts['first_purchase'] - cohorts['first_visit']).dt.days\n",
    "\n",
    "# Group by weekly cohorts\n",
    "cohort_summary = (\n",
    "    cohorts\n",
    "    .groupby('cohort_month')['days_to_convert']\n",
    "    .agg(\n",
    "        users=('count'),\n",
    "        avg_days_to_convert=('mean'),\n",
    "    )\n",
    "    .round()\n",
    "    .reset_index()            \n",
    ")\n",
    "\n",
    "print(\"Days to conversion by cohort\")\n",
    "print(cohort_summary)\n"
   ]
  },
  {
   "cell_type": "code",
   "execution_count": null,
   "metadata": {},
   "outputs": [],
   "source": []
  },
  {
   "cell_type": "code",
   "execution_count": 8,
   "metadata": {},
   "outputs": [
    {
     "name": "stdout",
     "output_type": "stream",
     "text": [
      "Average monthly orders: 3878.08\n"
     ]
    }
   ],
   "source": [
    "# 2. How many orders do they place over a given period of time?\n",
    "\n",
    "\n",
    "# Crear column with order month \n",
    "orders['order_month'] = orders['buy_ts'].dt.to_period('M').dt.to_timestamp()\n",
    "\n",
    "# Count orders by month\n",
    "monthly_orders = orders.groupby('order_month').size().reset_index(name='n_orders')\n",
    "monthly_average_orders = monthly_orders['n_orders'].mean()\n",
    "print(f\"Average monthly orders: {monthly_average_orders:.2f}\")\n"
   ]
  },
  {
   "cell_type": "code",
   "execution_count": 9,
   "metadata": {},
   "outputs": [
    {
     "name": "stdout",
     "output_type": "stream",
     "text": [
      "Average purchase size: 5.00\n"
     ]
    }
   ],
   "source": [
    "# 3. What is the average purchase size?\n",
    "\n",
    "avg_order_value = orders['revenue'].sum() / orders.shape[0]\n",
    "print(f\"Average purchase size: {avg_order_value:.2f}\")\n"
   ]
  },
  {
   "cell_type": "code",
   "execution_count": 10,
   "metadata": {},
   "outputs": [
    {
     "name": "stdout",
     "output_type": "stream",
     "text": [
      "   cohort_month  total_revenue  buyers        LTV\n",
      "0    2017-06-01       40026.05    2923  13.693483\n",
      "1    2017-07-01       17812.11    2458   7.246587\n",
      "2    2017-08-01       13461.87    1721   7.822121\n",
      "3    2017-09-01       33682.56    3058  11.014572\n",
      "4    2017-10-01       27857.69    4678   5.955043\n",
      "5    2017-11-01       24426.72    4262   5.731281\n",
      "6    2017-12-01       31157.85    4074   7.647975\n",
      "7    2018-01-01       14546.82    3119   4.663937\n",
      "8    2018-02-01       15061.29    3186   4.727335\n",
      "9    2018-03-01       13770.16    2838   4.852065\n",
      "10   2018-04-01        9882.55    1890   5.228862\n",
      "11   2018-05-01       10371.53    2316   4.478208\n"
     ]
    }
   ],
   "source": [
    "#4. How much money do they bring? (LTV)\n",
    "\n",
    "# LTV by cohort\n",
    "\n",
    "# Convert to datetime\n",
    "\n",
    "cohorts['cohort_month'] = pd.to_datetime(cohorts['cohort_month'])\n",
    "\n",
    "# Merge orders with cohorts\n",
    "orders_with_cohort = pd.merge(\n",
    "    orders,\n",
    "    cohorts[['uid', 'cohort_month']],\n",
    "    on='uid',\n",
    "    how='inner'\n",
    ")\n",
    "\n",
    "\n",
    "# Estimate total revenue and buyers by cohort\n",
    "ltv_by_cohort = (\n",
    "    orders_with_cohort\n",
    "    .groupby('cohort_month')\n",
    "    .agg(\n",
    "        total_revenue=('revenue', 'sum'),\n",
    "        buyers=('uid', 'nunique')\n",
    "    )\n",
    "    .reset_index()\n",
    ")\n",
    "\n",
    "# LTV by cohort\n",
    "ltv_by_cohort['LTV'] = ltv_by_cohort['total_revenue'] / ltv_by_cohort['buyers']\n",
    "print(ltv_by_cohort)"
   ]
  },
  {
   "cell_type": "markdown",
   "metadata": {},
   "source": [
    "## Marketing:\n",
    "1. How much money was spent?\n",
    "(Total / by acquisition source / over time)\n",
    "2. What was the customer acquisition cost (CAC) for each source?\n",
    "3. How profitable were the investments? (ROMI)"
   ]
  },
  {
   "cell_type": "code",
   "execution_count": 11,
   "metadata": {},
   "outputs": [
    {
     "name": "stdout",
     "output_type": "stream",
     "text": [
      "Marketing total cost: 329132.0\n",
      "\n",
      "Marketing cost by source:\n",
      "source_id\n",
      "3     141321.63\n",
      "4      61073.60\n",
      "5      51757.10\n",
      "2      42806.04\n",
      "1      20833.27\n",
      "10      5822.49\n",
      "9       5517.49\n",
      "Name: costs, dtype: float64\n",
      "\n",
      "Marketing expend over time:\n",
      "      month     costs\n",
      "6   2017-12  38315.35\n",
      "5   2017-11  37907.88\n",
      "4   2017-10  36322.88\n",
      "7   2018-01  33518.52\n",
      "8   2018-02  32723.03\n",
      "9   2018-03  30415.27\n",
      "3   2017-09  24368.91\n",
      "10  2018-04  22289.38\n",
      "11  2018-05  22224.27\n",
      "1   2017-07  18240.59\n",
      "0   2017-06  18015.00\n",
      "2   2017-08  14790.54\n"
     ]
    }
   ],
   "source": [
    "# 1. How much money was spent? (Total / by acquisition source / over time\n",
    "\n",
    "# Total cost\n",
    "\n",
    "total_cost = costs[\"costs\"].sum().round()\n",
    "print(\"Marketing total cost:\", total_cost)\n",
    "\n",
    "\n",
    "\n",
    "# Total cost by source\n",
    "\n",
    "cost_by_source = costs.groupby(\"source_id\")[\"costs\"].sum().sort_values(ascending=False)\n",
    "print(f\"\\nMarketing cost by source:\")\n",
    "print(cost_by_source)\n",
    "\n",
    "# Monthly cost over time\n",
    "\n",
    "costs[\"month\"] = costs[\"dt\"].dt.to_period(\"M\")\n",
    "\n",
    "cost_over_time = costs.groupby(\"month\")[\"costs\"].sum().round(2).reset_index()\n",
    "print(\"\\nMarketing expend over time:\")\n",
    "print(cost_over_time.sort_values(by=\"costs\", ascending=False))"
   ]
  },
  {
   "cell_type": "markdown",
   "metadata": {},
   "source": [
    "<div class=\"alert alert-block alert-success\">\n",
    "<b>Comentario del revisor</b> <a class=\"tocSkip\"></a><br />\n",
    "\n",
    "Bien hecho!\n",
    "\n",
    "Los gastos de marketing coinciden con los meses donde se ha conseguido una mejor adquisición de clientes\n",
    "</div>\n"
   ]
  },
  {
   "cell_type": "markdown",
   "metadata": {},
   "source": [
    "<div class=\"alert alert-block alert-warning\">\n",
    "<b>Comentario del revisor</b> <a class=\"tocSkip\"></a><br />\n",
    "\n",
    "En esta parte recomendaría agregar graficas que acompañen a las tablas\n",
    "</div>\n"
   ]
  },
  {
   "cell_type": "code",
   "execution_count": 12,
   "metadata": {},
   "outputs": [
    {
     "name": "stdout",
     "output_type": "stream",
     "text": [
      "Client Acquisition Cost by source:\n",
      "   source_id    CAC\n",
      "0          3  10.21\n",
      "3          2   5.86\n",
      "2          5   5.10\n",
      "1          4   4.28\n",
      "5         10   3.28\n",
      "4          1   2.92\n",
      "6          9   1.98\n"
     ]
    }
   ],
   "source": [
    "# 2. How profitable were the investments? (ROMI)\n",
    "\n",
    "# Merge tables to identify acquisition source by user\n",
    "\n",
    "orders_with_source = pd.merge(orders,visits[[\"source_id\", \"uid\"]], on=\"uid\", how=\"inner\")\n",
    "# Unique users by source\n",
    "buyers_by_source = orders_with_source.groupby(\"source_id\")[\"uid\"].nunique().reset_index()\n",
    "buyers_by_source.rename(columns={\"uid\":\"buyers\"}, inplace=True)\n",
    "# Merge tables to see cost, clients and source_id\n",
    "cac_df = pd.merge(cost_by_source, buyers_by_source, on=\"source_id\", how=\"inner\")\n",
    "cac_df[\"CAC\"] = (cac_df[\"costs\"]/cac_df[\"buyers\"]).round(2)\n",
    "print(\"Client Acquisition Cost by source:\")\n",
    "print(cac_df[[\"source_id\", \"CAC\"]].sort_values(\"CAC\", ascending=False))"
   ]
  },
  {
   "cell_type": "code",
   "execution_count": 13,
   "metadata": {},
   "outputs": [
    {
     "name": "stdout",
     "output_type": "stream",
     "text": [
      "ROMI (%) by source:\n",
      "   source_id         LTV    CAC    ROMI\n",
      "0          1  321.966961   2.92  110.26\n",
      "1          2  361.148420   5.86   61.63\n",
      "4          5  116.332920   5.10   22.81\n",
      "3          4   34.848114   4.28    8.14\n",
      "5          9   13.011905   1.98    6.57\n",
      "6         10    8.245477   3.28    2.51\n",
      "2          3   21.427702  10.21    2.10\n"
     ]
    }
   ],
   "source": [
    "# 3. How profitable were the investments? (ROMI)\n",
    "\n",
    "# 1. Estimate LTV by source = total revenue / buyers\n",
    "\n",
    "ltv_by_source = (\n",
    "    orders_with_source\n",
    "    .groupby(\"source_id\")\n",
    "    .agg(\n",
    "        total_revenue=(\"revenue\", \"sum\"),\n",
    "        buyers=(\"uid\", \"nunique\")\n",
    "    )\n",
    ")\n",
    "\n",
    "ltv_by_source[\"LTV\"] = ltv_by_source[\"total_revenue\"] / ltv_by_source[\"buyers\"]\n",
    "\n",
    "# 2. Merge LTV and CAC\n",
    "romi_df = pd.merge(\n",
    "    ltv_by_source[[\"LTV\"]],\n",
    "    cac_df[[\"source_id\", \"CAC\"]],\n",
    "    on=\"source_id\",\n",
    "    how=\"inner\"\n",
    ")\n",
    "\n",
    "# 3. ROMI\n",
    "romi_df[\"ROMI\"] = (romi_df[\"LTV\"] / romi_df[\"CAC\"]).round(2)\n",
    "romi_df = romi_df.sort_values(\"ROMI\", ascending=False)\n",
    "print(\"ROMI (%) by source:\")\n",
    "print(romi_df)"
   ]
  },
  {
   "cell_type": "markdown",
   "metadata": {},
   "source": [
    "## 4. Plot graphs to show how these metrics vary across different devices and ad sources and how they change over time."
   ]
  },
  {
   "cell_type": "code",
   "execution_count": 14,
   "metadata": {},
   "outputs": [
    {
     "data": {
      "image/png": "[encoded data removed]",
      "text/plain": [
       "<Figure size 800x500 with 1 Axes>"
      ]
     },
     "metadata": {},
     "output_type": "display_data"
    },
    {
     "data": {
      "image/png": "[encoded data removed]",
      "text/plain": [
       "<Figure size 800x500 with 1 Axes>"
      ]
     },
     "metadata": {},
     "output_type": "display_data"
    },
    {
     "data": {
      "image/png": "[encoded data removed]",
      "text/plain": [
       "<Figure size 800x500 with 1 Axes>"
      ]
     },
     "metadata": {},
     "output_type": "display_data"
    }
   ],
   "source": [
    "\n",
    "import matplotlib.pyplot as plt\n",
    "import seaborn as sns\n",
    "\n",
    "# ROMI by source\n",
    "\n",
    "plt.figure(figsize=(8,5))\n",
    "sns.barplot(data=romi_df, x=\"source_id\", y=\"ROMI\")\n",
    "plt.title(\"Return On Marketing Investment by source\")\n",
    "plt.xlabel(\"Source\")\n",
    "plt.ylabel(\"ROMI (%)\")\n",
    "plt.show()\n",
    "\n",
    "\n",
    "# LTV by source\n",
    "\n",
    "ltv_by_source = ltv_by_source.reset_index()\n",
    "plt.figure(figsize=(8,5))\n",
    "sns.barplot(data=ltv_by_source, x=\"source_id\", y=\"LTV\")\n",
    "plt.title(\"Lifetime Value by source\")\n",
    "plt.xlabel(\"Source\")\n",
    "plt.ylabel(\"LTV\")\n",
    "plt.show()\n",
    "\n",
    "\n",
    "# CAC by source\n",
    "\n",
    "plt.figure(figsize=(8,5))\n",
    "sns.barplot(data=cac_df, x=\"source_id\",y=\"CAC\")\n",
    "plt.title(\"Customer Acquisition Cost by source\")\n",
    "plt.xlabel(\"source_id\")\n",
    "plt.ylabel(\"CAC\")\n",
    "plt.show()"
   ]
  },
  {
   "cell_type": "markdown",
   "metadata": {},
   "source": [
    "<div class=\"alert alert-block alert-success\">\n",
    "<b>Comentario del revisor</b> <a class=\"tocSkip\"></a><br />\n",
    "\n",
    "Buena manera de mostrar los datos de cada una de las fuentas, estas graficas son especialmente utiles para saber cuales de estas fuentes han sido de ayuda para la adquisicion de clientes y de esta manera determinar con cuales se quiere seguir trabajando y con cuales no\n",
    "</div>\n"
   ]
  },
  {
   "cell_type": "code",
   "execution_count": 17,
   "metadata": {},
   "outputs": [
    {
     "data": {
      "image/png": "[encoded data removed]",
      "text/plain": [
       "<Figure size 800x500 with 1 Axes>"
      ]
     },
     "metadata": {},
     "output_type": "display_data"
    },
    {
     "data": {
      "image/png": "[encoded data removed]",
      "text/plain": [
       "<Figure size 800x500 with 1 Axes>"
      ]
     },
     "metadata": {},
     "output_type": "display_data"
    },
    {
     "data": {
      "image/png": "[encoded data removed]",
      "text/plain": [
       "<Figure size 800x500 with 1 Axes>"
      ]
     },
     "metadata": {},
     "output_type": "display_data"
    }
   ],
   "source": [
    "# LTV, CAC & ROMI BY DEVICE\n",
    "\n",
    "# 1. Merge tables to get devices\n",
    "visits_unique = visits.drop_duplicates(subset='uid')\n",
    "orders_with_device = pd.merge(orders_with_source, visits_unique[[\"uid\", \"device\"]], on=\"uid\", how=\"inner\")\n",
    "\n",
    "# 2. Estimate LTV by device\n",
    "ltv_by_device = orders_with_device.groupby(\"device\").agg(\n",
    "    total_revenue=(\"revenue\",\"sum\"),\n",
    "    buyers=(\"uid\", \"nunique\")\n",
    ")\n",
    "ltv_by_device[\"LTV\"] = ltv_by_device[\"total_revenue\"] / ltv_by_device[\"buyers\"]\n",
    "# 3. Estimate CAC by device\n",
    "\n",
    "device_buyers = orders_with_device.groupby(\"device\")[\"uid\"].nunique()\n",
    "device_cac = total_cost / device_buyers\n",
    "ltv_by_device['CAC'] = device_cac\n",
    "ltv_by_device['ROMI'] = (ltv_by_device['LTV'] / ltv_by_device['CAC']).round(2)\n",
    "ltv_by_device = ltv_by_device.reset_index()\n",
    "\n",
    "# LTV by device\n",
    "\n",
    "\n",
    "plt.figure(figsize=(8,5))\n",
    "sns.barplot(data=ltv_by_device, x=\"device\", y=\"LTV\")\n",
    "plt.title(\"Lifetime Value by device\")\n",
    "plt.xlabel(\"Device\")\n",
    "plt.ylabel(\"LTV\")\n",
    "plt.show()\n",
    "\n",
    "\n",
    "# CAC by device\n",
    "\n",
    "plt.figure(figsize=(8,5))\n",
    "sns.barplot(data=ltv_by_device, x=\"device\",y=\"CAC\")\n",
    "plt.title(\"Customer Acquisition Cost by device\")\n",
    "plt.xlabel(\"Device\")\n",
    "plt.ylabel(\"CAC\")\n",
    "plt.show()\n",
    "\n",
    "\n",
    "# ROMI by device\n",
    "\n",
    "plt.figure(figsize=(8,5))\n",
    "sns.barplot(data=ltv_by_device, x=\"device\", y=\"ROMI\")\n",
    "plt.title(\"Return On Marketing Investment by device\")\n",
    "plt.xlabel(\"Device\")\n",
    "plt.ylabel(\"ROMI (%)\")\n",
    "plt.show()"
   ]
  },
  {
   "cell_type": "markdown",
   "metadata": {},
   "source": [
    "<div class=\"alert alert-block alert-success\">\n",
    "<b>Comentario del revisor</b> <a class=\"tocSkip\"></a><br />\n",
    "\n",
    "Con estas graficas podemos visualizar cuales dispositivos han sido más útiles para la adquisición de clientes, con este analisis podemos decidir cuales se deben mantener y cuales eliminar\n",
    "</div>\n"
   ]
  },
  {
   "cell_type": "markdown",
   "metadata": {},
   "source": [
    "\n",
    "\n",
    "<div class=\"alert alert-block alert-warning\">\n",
    "<b>Comentario del revisor</b> <a class=\"tocSkip\"></a><br />\n",
    "\n",
    "Cuidado!\n",
    "\n",
    "Debemos ser cuidadosos a la hora de unir dataframes, ya que estos podrían generar algun problema de memoria, es por eso que cuando hagamos la union de dos dataframes nos aseguremos de que no se genere un conjunto de datos enorme, una manera de asegurarnos de esto es eliminando los duplicados, en este caso te he ayudado a agreagr la línea que elimina los duplicados en visits\n",
    "```\n",
    "visits_unique = visits.drop_duplicates(subset='uid')\n",
    "```\n",
    "</div>\n"
   ]
  },
  {
   "cell_type": "code",
   "execution_count": 18,
   "metadata": {},
   "outputs": [
    {
     "data": {
      "image/png": "[encoded data removed]",
      "text/plain": [
       "<Figure size 1400x800 with 2 Axes>"
      ]
     },
     "metadata": {},
     "output_type": "display_data"
    }
   ],
   "source": [
    "# Ensure datetime format for dates\n",
    "orders['buy_ts'] = pd.to_datetime(orders['buy_ts'])  # Order date\n",
    "cohorts['cohort_month'] = pd.to_datetime(cohorts['cohort_month'])  # Order month\n",
    "cohorts['first_visit'] = pd.to_datetime(cohorts['first_visit'])    # First visit\n",
    "costs['month'] = costs['month'].dt.to_timestamp()  \n",
    "\n",
    "# Merge orders with cohorts to get info by user\n",
    "\n",
    "orders_with_cohort = pd.merge(\n",
    "    orders,\n",
    "    cohorts[['uid', 'cohort_month', 'first_visit']],\n",
    "    on='uid',\n",
    "    how='inner'\n",
    ")\n",
    "\n",
    "# Extract month of every order \n",
    "orders_with_cohort['order_month'] = orders_with_cohort['buy_ts'].dt.to_period('M').dt.to_timestamp()\n",
    "\n",
    "# Estimate how many months have passed since first visit until every order \n",
    "orders_with_cohort['months_after_first_visit'] = (\n",
    "    orders_with_cohort['order_month'].dt.to_period('M').astype(int) -\n",
    "    orders_with_cohort['first_visit'].dt.to_period('M').astype(int)\n",
    ")\n",
    "\n",
    "# Group by cohort and month since first visit to get total revenue and unique buyers \n",
    "\n",
    "cohort_revenue = orders_with_cohort.groupby(\n",
    "    ['cohort_month', 'months_after_first_visit']\n",
    ").agg(\n",
    "    revenue=('revenue', 'sum'),\n",
    "    buyers=('uid', 'nunique')\n",
    ").reset_index()\n",
    "\n",
    "# monthly LTV\n",
    "cohort_revenue['ltv'] = cohort_revenue['revenue'] / cohort_revenue['buyers']\n",
    "\n",
    "# LTV pivot\n",
    "\n",
    "ltv_cum = cohort_revenue.pivot(\n",
    "    index='cohort_month',\n",
    "    columns='months_after_first_visit',\n",
    "    values='ltv'\n",
    ").cumsum(axis=1).fillna(0)\n",
    "\n",
    "# CAC by cohort\n",
    "# 1. Count users by cohort\n",
    "buyers_per_cohort = orders_with_cohort.groupby('cohort_month')['uid'].nunique().reset_index(name='buyers')\n",
    "\n",
    "# 2. Sum marketing cost by month\n",
    "monthly_costs = costs.groupby('month')['costs'].sum().reset_index()\n",
    "\n",
    "# 3.Merge both tables to get cost by cohort \n",
    "\n",
    "cac_by_cohort = pd.merge(\n",
    "    buyers_per_cohort,\n",
    "    monthly_costs,\n",
    "    left_on='cohort_month',\n",
    "    right_on='month',\n",
    "    how='left'\n",
    ")\n",
    "\n",
    "# 4. CAC by cohort user\n",
    "cac_by_cohort['CAC'] = cac_by_cohort['costs'] / cac_by_cohort['buyers']\n",
    "cac_by_cohort = cac_by_cohort[['cohort_month', 'CAC']]  # select columns needed\n",
    "\n",
    "#  ROMI\n",
    " \n",
    "# Calculate cumulative ROMI by dividing the cumulative LTV for each cohort by its corresponding CAC.\n",
    "# axis=0 divides row by row  (each row in ltv_cum is divided by the CAC of that cohort)\n",
    "\n",
    "romi_cum = ltv_cum.div(cac_by_cohort.set_index('cohort_month')['CAC'], axis=0) \n",
    "\n",
    "\n",
    "#  Heatmap \n",
    "plt.figure(figsize=(14, 8))\n",
    "sns.heatmap(\n",
    "    romi_cum,\n",
    "    annot=True,           # show values in cells\n",
    "    fmt=\".2f\",            # 2 decimals\n",
    "    cmap=\"YlOrRd\",        # color\n",
    "    linewidths=0.5,\n",
    "    linecolor='gray'\n",
    ")\n",
    "plt.title(\"Accumulated ROMI by cohort and months since first visit\")\n",
    "plt.xlabel(\"Months since first visit\")\n",
    "plt.ylabel(\"Cohort\")\n",
    "plt.show()"
   ]
  },
  {
   "cell_type": "markdown",
   "metadata": {},
   "source": [
    "## Step 3. Write a conclusion: How much and where would you recommend marketing exoerts to invest. Which sources/platforms would you recommend? Justify your answer: which metrics did you focus on? Why? What conclusions could you draw based on these?"
   ]
  },
  {
   "cell_type": "markdown",
   "metadata": {},
   "source": [
    "Based on the previous analysis, we could identify the following:\n",
    "-\tShowz has 908 weekly, 5716 monthly and 23,228 monthly visitors on average. \n",
    "-\tDaily, there are 987 sessions which are on average 11 minutes \n",
    "-\tOn average, users come back again 27 days after their first visit\n",
    "-\tOn average, there are 3,878 placed monthly and the average order value is 5 USD\n",
    "-\tOlder cohorts have a larger LTV, this makes sense since older cohorts have had more time to place orders.\n",
    "For the marketing analysis, following metrics were estimated:\n",
    "-\tThe total marketing cost equals 329,132 USD. \n",
    "-\tBy source, source 3 concentrates the highest spend on marketing with 141,321 USD, followed by source 4 with 61,073 USD. The spend on marketing for sources 9 & 10 is the smallest with less than 6,000 USD each.\n",
    "-\tDuring 2017 Q4 & 2018 Q1 (oct-dec & jan-mar) the marketing expenses reach the highest during the year. \n",
    "-\tThe source with the highest Customer Acquisition Cost is source 3 with 10.21 USD per customer followed by source 2 with 5.86 USD per customer. Source 9 has the lowest CAC with 1.98 USD per customer. \n",
    "-\tBy source, source 1 has the highest ROMI of 110.26%, meaning that for every 1 USD invested on marketing, 110.26 are earned. For source 2, 61.63 USD are earned and for source 3 22.81 are earned. Sources 3 and 10 are the least profitable (2.10 and 2.51 each).\n",
    "-\tWe can see that desktops have a larger Lifetime Value than touch devices and the Customer Acquisition Cost is 3X less. Therefore, it makes sense for the ROMI for desktops to be larger than for touch devices.\n",
    "-\tFinally, we can see that cumulative ROMI increases for older cohorts through time. Younger cohorts have a lower ROMI but this makes sense since older cohorts have had longer time to buy.\n",
    "\n",
    "Based on these findings, we can make Showz following recommendations:\n",
    "\n",
    "1.\tFocus on desktop ads as these attract more customers. Otherwise, develop new strategies to gain more customers through touch devices. \n",
    "2.\tAd sources 1,2 and 5 are the most profitable and the Customer Acquisition Cost is half the CAC as for source 3. \n",
    "3.\tAd source 3 should be shut down since it has the lowest lifetime value LTV and ROMI and highest CAC. This means that the marketing spend on this source is not having the expected returns and is costing a lot.\n"
   ]
  },
  {
   "cell_type": "markdown",
   "metadata": {},
   "source": [
    "## Comentario general del revisor\n",
    "<div class=\"alert alert-block alert-success\">\n",
    "<b>Comentario del revisor</b> <a class=\"tocSkip\"></a><br />\n",
    "\n",
    "Has realizado un gran trabajo, puedo ver que has aplicado todos los conocimientos adquiridos hasta el momento, las observaciones que haces me parecen bastante profesionales, el orden en el que muestras los elementos me parece acertado, y me gusta que personalizas los distintos elementos del documento, las graficas usas colores que no son los por default, lo cual lo hace más interesante.\n",
    "\n",
    "Continúa con el buen trabajo y mucho éxito en el siguiente Sprint!\n",
    "</div>\n"
   ]
  },
  {
   "cell_type": "markdown",
   "metadata": {},
   "source": [
    "\n",
    "\n",
    "<div class=\"alert alert-block alert-warning\">\n",
    "<b>Comentario del revisor</b> <a class=\"tocSkip\"></a><br />\n",
    "\n",
    "Recomendaría profundizar en las observaciones que se hacen a lo largo del proyecto, explicar las graficas o tablas es un gran complemento para las personas que estan tratando de entender que es lo que se muestra.\n",
    "\n",
    "También recomendaría aprender algo de `markdown` para que cualquier escrito que hagas tenga mayor personalización y por lo tanto sea más fácil e interesante de leer\n",
    "</div>\n"
   ]
  }
 ],
 "metadata": {
  "ExecuteTimeLog": [
   {
    "duration": 1167,
    "start_time": "2025-05-05T12:46:59.700Z"
   },
   {
    "duration": 433,
    "start_time": "2025-05-05T12:47:11.076Z"
   },
   {
    "duration": 409,
    "start_time": "2025-05-05T13:14:02.960Z"
   },
   {
    "duration": 22,
    "start_time": "2025-05-05T13:14:41.195Z"
   },
   {
    "duration": 51,
    "start_time": "2025-05-05T13:15:05.871Z"
   },
   {
    "duration": 47,
    "start_time": "2025-05-05T13:15:37.502Z"
   },
   {
    "duration": 56,
    "start_time": "2025-05-05T13:15:55.824Z"
   },
   {
    "duration": 19,
    "start_time": "2025-05-05T13:16:11.755Z"
   },
   {
    "duration": 22,
    "start_time": "2025-05-05T13:16:36.262Z"
   },
   {
    "duration": 72,
    "start_time": "2025-05-05T13:17:18.101Z"
   },
   {
    "duration": 10,
    "start_time": "2025-05-05T13:19:39.832Z"
   },
   {
    "duration": 74,
    "start_time": "2025-05-05T13:19:44.227Z"
   },
   {
    "duration": 96,
    "start_time": "2025-05-05T13:19:56.615Z"
   },
   {
    "duration": 80,
    "start_time": "2025-05-05T13:35:17.503Z"
   },
   {
    "duration": 87,
    "start_time": "2025-05-05T13:36:18.760Z"
   },
   {
    "duration": 98,
    "start_time": "2025-05-05T14:04:26.126Z"
   },
   {
    "duration": 839,
    "start_time": "2025-05-06T03:31:10.738Z"
   },
   {
    "duration": 196,
    "start_time": "2025-05-06T03:31:15.507Z"
   },
   {
    "duration": 319,
    "start_time": "2025-05-06T03:31:18.546Z"
   },
   {
    "duration": 304,
    "start_time": "2025-05-06T03:31:47.453Z"
   },
   {
    "duration": 21,
    "start_time": "2025-05-06T03:38:41.356Z"
   },
   {
    "duration": 159,
    "start_time": "2025-05-06T12:52:02.094Z"
   },
   {
    "duration": 789,
    "start_time": "2025-05-06T12:52:06.233Z"
   },
   {
    "duration": 194,
    "start_time": "2025-05-06T12:52:10.144Z"
   },
   {
    "duration": 312,
    "start_time": "2025-05-06T12:52:14.662Z"
   },
   {
    "duration": 22,
    "start_time": "2025-05-06T12:52:18.966Z"
   },
   {
    "duration": 22,
    "start_time": "2025-05-06T12:52:27.409Z"
   },
   {
    "duration": 21,
    "start_time": "2025-05-06T12:52:31.575Z"
   },
   {
    "duration": 22,
    "start_time": "2025-05-06T12:52:38.798Z"
   },
   {
    "duration": 54,
    "start_time": "2025-05-06T12:52:48.906Z"
   },
   {
    "duration": 21,
    "start_time": "2025-05-06T12:52:58.912Z"
   },
   {
    "duration": 6,
    "start_time": "2025-05-06T12:55:31.903Z"
   },
   {
    "duration": 18,
    "start_time": "2025-05-06T12:58:58.426Z"
   },
   {
    "duration": 8,
    "start_time": "2025-05-06T12:59:16.345Z"
   },
   {
    "duration": 7,
    "start_time": "2025-05-06T12:59:22.827Z"
   },
   {
    "duration": 15,
    "start_time": "2025-05-06T12:59:44.324Z"
   },
   {
    "duration": 8,
    "start_time": "2025-05-06T13:00:22.648Z"
   },
   {
    "duration": 295,
    "start_time": "2025-05-06T13:23:48.297Z"
   },
   {
    "duration": 247,
    "start_time": "2025-05-06T13:24:29.601Z"
   },
   {
    "duration": 251,
    "start_time": "2025-05-06T13:25:20.017Z"
   },
   {
    "duration": 110,
    "start_time": "2025-05-06T13:36:54.622Z"
   },
   {
    "duration": 470,
    "start_time": "2025-05-06T13:37:54.403Z"
   },
   {
    "duration": 85,
    "start_time": "2025-05-06T13:38:06.653Z"
   },
   {
    "duration": 85,
    "start_time": "2025-05-06T13:38:17.686Z"
   },
   {
    "duration": 9,
    "start_time": "2025-05-06T13:41:10.421Z"
   },
   {
    "duration": 12,
    "start_time": "2025-05-06T13:42:11.801Z"
   },
   {
    "duration": 12,
    "start_time": "2025-05-06T13:42:25.857Z"
   },
   {
    "duration": 107,
    "start_time": "2025-05-06T14:00:37.260Z"
   },
   {
    "duration": 821,
    "start_time": "2025-05-07T03:49:43.934Z"
   },
   {
    "duration": 746,
    "start_time": "2025-05-07T03:49:54.339Z"
   },
   {
    "duration": 216,
    "start_time": "2025-05-07T03:49:55.087Z"
   },
   {
    "duration": 331,
    "start_time": "2025-05-07T03:49:55.305Z"
   },
   {
    "duration": 23,
    "start_time": "2025-05-07T03:49:55.638Z"
   },
   {
    "duration": 8,
    "start_time": "2025-05-07T03:49:55.664Z"
   },
   {
    "duration": 297,
    "start_time": "2025-05-07T03:49:55.674Z"
   },
   {
    "duration": 9,
    "start_time": "2025-05-07T03:49:55.975Z"
   },
   {
    "duration": 0,
    "start_time": "2025-05-07T03:49:55.985Z"
   },
   {
    "duration": 652,
    "start_time": "2025-05-07T03:53:57.861Z"
   },
   {
    "duration": 97,
    "start_time": "2025-05-07T03:55:02.613Z"
   },
   {
    "duration": 93,
    "start_time": "2025-05-07T03:57:03.874Z"
   },
   {
    "duration": 105,
    "start_time": "2025-05-07T04:01:24.441Z"
   },
   {
    "duration": 98,
    "start_time": "2025-05-07T04:04:09.803Z"
   },
   {
    "duration": 166,
    "start_time": "2025-05-08T03:19:06.913Z"
   },
   {
    "duration": 816,
    "start_time": "2025-05-08T03:19:18.115Z"
   },
   {
    "duration": 204,
    "start_time": "2025-05-08T03:19:18.934Z"
   },
   {
    "duration": 300,
    "start_time": "2025-05-08T03:19:19.142Z"
   },
   {
    "duration": 25,
    "start_time": "2025-05-08T03:19:19.445Z"
   },
   {
    "duration": 7,
    "start_time": "2025-05-08T03:19:19.473Z"
   },
   {
    "duration": 295,
    "start_time": "2025-05-08T03:19:19.482Z"
   },
   {
    "duration": 111,
    "start_time": "2025-05-08T03:19:19.779Z"
   },
   {
    "duration": 957,
    "start_time": "2025-05-08T03:19:19.893Z"
   },
   {
    "duration": 417,
    "start_time": "2025-05-08T03:21:09.463Z"
   },
   {
    "duration": 10,
    "start_time": "2025-05-08T03:22:11.001Z"
   },
   {
    "duration": 50,
    "start_time": "2025-05-08T03:23:46.987Z"
   },
   {
    "duration": 49,
    "start_time": "2025-05-08T03:28:43.578Z"
   },
   {
    "duration": 690,
    "start_time": "2025-05-08T03:29:03.002Z"
   },
   {
    "duration": 289,
    "start_time": "2025-05-08T03:29:03.694Z"
   },
   {
    "duration": 296,
    "start_time": "2025-05-08T03:29:03.985Z"
   },
   {
    "duration": 21,
    "start_time": "2025-05-08T03:29:04.284Z"
   },
   {
    "duration": 21,
    "start_time": "2025-05-08T03:29:04.307Z"
   },
   {
    "duration": 282,
    "start_time": "2025-05-08T03:29:04.330Z"
   },
   {
    "duration": 96,
    "start_time": "2025-05-08T03:29:04.615Z"
   },
   {
    "duration": 18,
    "start_time": "2025-05-08T03:29:04.713Z"
   },
   {
    "duration": 608,
    "start_time": "2025-05-08T03:29:04.734Z"
   },
   {
    "duration": 11,
    "start_time": "2025-05-08T03:29:30.066Z"
   },
   {
    "duration": 68,
    "start_time": "2025-05-08T03:29:44.842Z"
   },
   {
    "duration": 110,
    "start_time": "2025-05-08T03:30:10.671Z"
   },
   {
    "duration": 59,
    "start_time": "2025-05-08T03:30:19.429Z"
   },
   {
    "duration": 11,
    "start_time": "2025-05-08T03:30:40.273Z"
   },
   {
    "duration": 97,
    "start_time": "2025-05-08T03:30:52.527Z"
   },
   {
    "duration": 11,
    "start_time": "2025-05-08T03:31:06.684Z"
   },
   {
    "duration": 780,
    "start_time": "2025-05-08T03:31:17.158Z"
   },
   {
    "duration": 219,
    "start_time": "2025-05-08T03:31:17.940Z"
   },
   {
    "duration": 329,
    "start_time": "2025-05-08T03:31:18.161Z"
   },
   {
    "duration": 33,
    "start_time": "2025-05-08T03:31:18.492Z"
   },
   {
    "duration": 8,
    "start_time": "2025-05-08T03:31:18.528Z"
   },
   {
    "duration": 286,
    "start_time": "2025-05-08T03:31:18.538Z"
   },
   {
    "duration": 112,
    "start_time": "2025-05-08T03:31:18.826Z"
   },
   {
    "duration": 9,
    "start_time": "2025-05-08T03:31:18.940Z"
   },
   {
    "duration": 48,
    "start_time": "2025-05-08T03:31:18.951Z"
   },
   {
    "duration": 682,
    "start_time": "2025-05-08T03:31:36.500Z"
   },
   {
    "duration": 201,
    "start_time": "2025-05-08T03:31:37.185Z"
   },
   {
    "duration": 306,
    "start_time": "2025-05-08T03:31:37.388Z"
   },
   {
    "duration": 30,
    "start_time": "2025-05-08T03:31:37.697Z"
   },
   {
    "duration": 9,
    "start_time": "2025-05-08T03:31:37.729Z"
   },
   {
    "duration": 262,
    "start_time": "2025-05-08T03:31:37.740Z"
   },
   {
    "duration": 103,
    "start_time": "2025-05-08T03:31:38.005Z"
   },
   {
    "duration": 61,
    "start_time": "2025-05-08T03:31:38.110Z"
   },
   {
    "duration": 10,
    "start_time": "2025-05-08T03:32:04.049Z"
   },
   {
    "duration": 10,
    "start_time": "2025-05-08T03:35:11.618Z"
   },
   {
    "duration": 9,
    "start_time": "2025-05-08T03:35:20.787Z"
   },
   {
    "duration": 3,
    "start_time": "2025-05-08T03:37:40.897Z"
   },
   {
    "duration": 7,
    "start_time": "2025-05-08T03:38:07.870Z"
   },
   {
    "duration": 8,
    "start_time": "2025-05-08T03:38:18.549Z"
   },
   {
    "duration": 8,
    "start_time": "2025-05-08T03:39:21.040Z"
   },
   {
    "duration": 11,
    "start_time": "2025-05-08T03:51:05.986Z"
   },
   {
    "duration": 170,
    "start_time": "2025-05-08T21:33:17.016Z"
   },
   {
    "duration": 874,
    "start_time": "2025-05-08T21:33:23.051Z"
   },
   {
    "duration": 213,
    "start_time": "2025-05-08T21:33:23.928Z"
   },
   {
    "duration": 304,
    "start_time": "2025-05-08T21:33:24.143Z"
   },
   {
    "duration": 22,
    "start_time": "2025-05-08T21:33:24.449Z"
   },
   {
    "duration": 8,
    "start_time": "2025-05-08T21:33:24.475Z"
   },
   {
    "duration": 307,
    "start_time": "2025-05-08T21:33:24.484Z"
   },
   {
    "duration": 109,
    "start_time": "2025-05-08T21:33:24.793Z"
   },
   {
    "duration": 581,
    "start_time": "2025-05-08T21:33:24.904Z"
   },
   {
    "duration": 0,
    "start_time": "2025-05-08T21:33:25.487Z"
   },
   {
    "duration": 0,
    "start_time": "2025-05-08T21:33:25.489Z"
   },
   {
    "duration": 0,
    "start_time": "2025-05-08T21:33:25.490Z"
   },
   {
    "duration": 127,
    "start_time": "2025-05-08T21:35:21.303Z"
   },
   {
    "duration": 313,
    "start_time": "2025-05-08T21:36:34.269Z"
   },
   {
    "duration": 12,
    "start_time": "2025-05-08T21:37:00.713Z"
   },
   {
    "duration": 751,
    "start_time": "2025-05-08T21:37:10.629Z"
   },
   {
    "duration": 210,
    "start_time": "2025-05-08T21:37:11.382Z"
   },
   {
    "duration": 319,
    "start_time": "2025-05-08T21:37:11.594Z"
   },
   {
    "duration": 24,
    "start_time": "2025-05-08T21:37:11.916Z"
   },
   {
    "duration": 10,
    "start_time": "2025-05-08T21:37:11.942Z"
   },
   {
    "duration": 305,
    "start_time": "2025-05-08T21:37:11.953Z"
   },
   {
    "duration": 101,
    "start_time": "2025-05-08T21:37:12.260Z"
   },
   {
    "duration": 7,
    "start_time": "2025-05-08T21:37:12.363Z"
   },
   {
    "duration": 61,
    "start_time": "2025-05-08T21:37:12.371Z"
   },
   {
    "duration": 6,
    "start_time": "2025-05-08T21:37:12.434Z"
   },
   {
    "duration": 8,
    "start_time": "2025-05-08T21:37:12.443Z"
   },
   {
    "duration": 659,
    "start_time": "2025-05-08T21:37:12.453Z"
   },
   {
    "duration": 125,
    "start_time": "2025-05-08T21:38:24.553Z"
   },
   {
    "duration": 11,
    "start_time": "2025-05-08T21:39:10.190Z"
   },
   {
    "duration": 137,
    "start_time": "2025-05-08T21:41:27.360Z"
   },
   {
    "duration": 103,
    "start_time": "2025-05-08T21:41:55.306Z"
   },
   {
    "duration": 179,
    "start_time": "2025-05-08T21:42:06.593Z"
   },
   {
    "duration": 198,
    "start_time": "2025-05-08T21:42:32.987Z"
   },
   {
    "duration": 492,
    "start_time": "2025-05-08T21:43:46.801Z"
   },
   {
    "duration": 485,
    "start_time": "2025-05-08T21:44:48.188Z"
   },
   {
    "duration": 97,
    "start_time": "2025-05-08T21:44:52.766Z"
   },
   {
    "duration": 84,
    "start_time": "2025-05-08T21:45:22.332Z"
   },
   {
    "duration": 8,
    "start_time": "2025-05-08T21:45:53.279Z"
   },
   {
    "duration": 5,
    "start_time": "2025-05-08T21:46:08.413Z"
   },
   {
    "duration": 87,
    "start_time": "2025-05-08T21:46:13.405Z"
   },
   {
    "duration": 88,
    "start_time": "2025-05-08T21:46:25.251Z"
   },
   {
    "duration": 7,
    "start_time": "2025-05-08T21:56:32.990Z"
   },
   {
    "duration": 78,
    "start_time": "2025-05-08T21:56:39.005Z"
   },
   {
    "duration": 74,
    "start_time": "2025-05-08T21:57:00.840Z"
   },
   {
    "duration": 69,
    "start_time": "2025-05-08T21:57:15.981Z"
   },
   {
    "duration": 743,
    "start_time": "2025-05-09T01:14:20.240Z"
   },
   {
    "duration": 195,
    "start_time": "2025-05-09T01:14:20.985Z"
   },
   {
    "duration": 304,
    "start_time": "2025-05-09T01:14:21.182Z"
   },
   {
    "duration": 22,
    "start_time": "2025-05-09T01:14:21.488Z"
   },
   {
    "duration": 9,
    "start_time": "2025-05-09T01:14:21.511Z"
   },
   {
    "duration": 282,
    "start_time": "2025-05-09T01:14:21.521Z"
   },
   {
    "duration": 106,
    "start_time": "2025-05-09T01:14:21.805Z"
   },
   {
    "duration": 8,
    "start_time": "2025-05-09T01:14:21.913Z"
   },
   {
    "duration": 57,
    "start_time": "2025-05-09T01:14:21.922Z"
   },
   {
    "duration": 5,
    "start_time": "2025-05-09T01:14:21.983Z"
   },
   {
    "duration": 7,
    "start_time": "2025-05-09T01:14:21.990Z"
   },
   {
    "duration": 8,
    "start_time": "2025-05-09T01:14:21.999Z"
   },
   {
    "duration": 103,
    "start_time": "2025-05-09T01:14:22.009Z"
   },
   {
    "duration": 236,
    "start_time": "2025-05-09T01:32:23.921Z"
   },
   {
    "duration": 36,
    "start_time": "2025-05-09T01:32:34.943Z"
   },
   {
    "duration": 12,
    "start_time": "2025-05-09T01:32:50.726Z"
   },
   {
    "duration": 44,
    "start_time": "2025-05-09T01:33:06.529Z"
   },
   {
    "duration": 67,
    "start_time": "2025-05-09T01:33:29.373Z"
   },
   {
    "duration": 37,
    "start_time": "2025-05-09T01:33:34.828Z"
   },
   {
    "duration": 7,
    "start_time": "2025-05-09T01:33:38.158Z"
   },
   {
    "duration": 6,
    "start_time": "2025-05-09T01:34:21.427Z"
   },
   {
    "duration": 8,
    "start_time": "2025-05-09T01:36:00.982Z"
   },
   {
    "duration": 19,
    "start_time": "2025-05-09T02:16:40.205Z"
   },
   {
    "duration": 20,
    "start_time": "2025-05-09T02:17:10.064Z"
   },
   {
    "duration": 110,
    "start_time": "2025-05-09T02:17:28.549Z"
   },
   {
    "duration": 37,
    "start_time": "2025-05-09T02:20:24.031Z"
   },
   {
    "duration": 697,
    "start_time": "2025-05-09T02:20:29.570Z"
   },
   {
    "duration": 200,
    "start_time": "2025-05-09T02:20:30.270Z"
   },
   {
    "duration": 317,
    "start_time": "2025-05-09T02:20:30.472Z"
   },
   {
    "duration": 21,
    "start_time": "2025-05-09T02:20:30.791Z"
   },
   {
    "duration": 8,
    "start_time": "2025-05-09T02:20:30.814Z"
   },
   {
    "duration": 279,
    "start_time": "2025-05-09T02:20:30.825Z"
   },
   {
    "duration": 100,
    "start_time": "2025-05-09T02:20:31.106Z"
   },
   {
    "duration": 8,
    "start_time": "2025-05-09T02:20:31.208Z"
   },
   {
    "duration": 61,
    "start_time": "2025-05-09T02:20:31.218Z"
   },
   {
    "duration": 6,
    "start_time": "2025-05-09T02:20:31.282Z"
   },
   {
    "duration": 9,
    "start_time": "2025-05-09T02:20:31.289Z"
   },
   {
    "duration": 10,
    "start_time": "2025-05-09T02:20:31.299Z"
   },
   {
    "duration": 95,
    "start_time": "2025-05-09T02:20:31.310Z"
   },
   {
    "duration": 40,
    "start_time": "2025-05-09T02:20:31.407Z"
   },
   {
    "duration": 293,
    "start_time": "2025-05-09T02:20:31.448Z"
   },
   {
    "duration": 14,
    "start_time": "2025-05-09T02:24:37.758Z"
   },
   {
    "duration": 308,
    "start_time": "2025-05-09T02:25:01.113Z"
   },
   {
    "duration": 15,
    "start_time": "2025-05-09T02:25:17.943Z"
   },
   {
    "duration": 712,
    "start_time": "2025-05-09T02:25:24.100Z"
   },
   {
    "duration": 199,
    "start_time": "2025-05-09T02:25:24.814Z"
   },
   {
    "duration": 297,
    "start_time": "2025-05-09T02:25:25.016Z"
   },
   {
    "duration": 20,
    "start_time": "2025-05-09T02:25:25.316Z"
   },
   {
    "duration": 9,
    "start_time": "2025-05-09T02:25:25.338Z"
   },
   {
    "duration": 271,
    "start_time": "2025-05-09T02:25:25.348Z"
   },
   {
    "duration": 100,
    "start_time": "2025-05-09T02:25:25.621Z"
   },
   {
    "duration": 8,
    "start_time": "2025-05-09T02:25:25.725Z"
   },
   {
    "duration": 57,
    "start_time": "2025-05-09T02:25:25.735Z"
   },
   {
    "duration": 5,
    "start_time": "2025-05-09T02:25:25.795Z"
   },
   {
    "duration": 8,
    "start_time": "2025-05-09T02:25:25.802Z"
   },
   {
    "duration": 8,
    "start_time": "2025-05-09T02:25:25.812Z"
   },
   {
    "duration": 107,
    "start_time": "2025-05-09T02:25:25.821Z"
   },
   {
    "duration": 48,
    "start_time": "2025-05-09T02:25:25.930Z"
   },
   {
    "duration": 16,
    "start_time": "2025-05-09T02:25:25.979Z"
   },
   {
    "duration": 14,
    "start_time": "2025-05-09T02:25:25.997Z"
   },
   {
    "duration": 551,
    "start_time": "2025-05-09T02:25:59.677Z"
   },
   {
    "duration": 684,
    "start_time": "2025-05-09T02:26:15.118Z"
   },
   {
    "duration": 199,
    "start_time": "2025-05-09T02:26:15.805Z"
   },
   {
    "duration": 315,
    "start_time": "2025-05-09T02:26:16.006Z"
   },
   {
    "duration": 31,
    "start_time": "2025-05-09T02:26:16.322Z"
   },
   {
    "duration": 9,
    "start_time": "2025-05-09T02:26:16.369Z"
   },
   {
    "duration": 262,
    "start_time": "2025-05-09T02:26:16.379Z"
   },
   {
    "duration": 104,
    "start_time": "2025-05-09T02:26:16.643Z"
   },
   {
    "duration": 16,
    "start_time": "2025-05-09T02:26:16.749Z"
   },
   {
    "duration": 58,
    "start_time": "2025-05-09T02:26:16.769Z"
   },
   {
    "duration": 6,
    "start_time": "2025-05-09T02:26:16.829Z"
   },
   {
    "duration": 9,
    "start_time": "2025-05-09T02:26:16.837Z"
   },
   {
    "duration": 28,
    "start_time": "2025-05-09T02:26:16.848Z"
   },
   {
    "duration": 75,
    "start_time": "2025-05-09T02:26:16.877Z"
   },
   {
    "duration": 55,
    "start_time": "2025-05-09T02:26:16.954Z"
   },
   {
    "duration": 563,
    "start_time": "2025-05-09T02:26:17.010Z"
   },
   {
    "duration": 15,
    "start_time": "2025-05-09T02:26:50.258Z"
   },
   {
    "duration": 3687,
    "start_time": "2025-05-09T02:35:25.259Z"
   },
   {
    "duration": 340,
    "start_time": "2025-05-09T02:36:10.040Z"
   },
   {
    "duration": 899,
    "start_time": "2025-05-09T02:36:26.333Z"
   },
   {
    "duration": 370,
    "start_time": "2025-05-09T02:36:40.594Z"
   },
   {
    "duration": 245,
    "start_time": "2025-05-09T02:38:23.434Z"
   },
   {
    "duration": 345,
    "start_time": "2025-05-09T02:39:05.651Z"
   },
   {
    "duration": 1310,
    "start_time": "2025-05-09T02:39:47.916Z"
   },
   {
    "duration": 404,
    "start_time": "2025-05-09T02:39:57.323Z"
   },
   {
    "duration": 1342,
    "start_time": "2025-05-09T02:40:14.320Z"
   },
   {
    "duration": 1481,
    "start_time": "2025-05-09T02:40:43.389Z"
   },
   {
    "duration": 1228,
    "start_time": "2025-05-09T02:41:25.718Z"
   },
   {
    "duration": 683,
    "start_time": "2025-05-09T02:41:31.118Z"
   },
   {
    "duration": 205,
    "start_time": "2025-05-09T02:41:31.804Z"
   },
   {
    "duration": 314,
    "start_time": "2025-05-09T02:41:32.011Z"
   },
   {
    "duration": 24,
    "start_time": "2025-05-09T02:41:32.327Z"
   },
   {
    "duration": 22,
    "start_time": "2025-05-09T02:41:32.354Z"
   },
   {
    "duration": 264,
    "start_time": "2025-05-09T02:41:32.378Z"
   },
   {
    "duration": 103,
    "start_time": "2025-05-09T02:41:32.644Z"
   },
   {
    "duration": 8,
    "start_time": "2025-05-09T02:41:32.769Z"
   },
   {
    "duration": 44,
    "start_time": "2025-05-09T02:41:32.778Z"
   },
   {
    "duration": 6,
    "start_time": "2025-05-09T02:41:32.824Z"
   },
   {
    "duration": 7,
    "start_time": "2025-05-09T02:41:32.832Z"
   },
   {
    "duration": 33,
    "start_time": "2025-05-09T02:41:32.840Z"
   },
   {
    "duration": 74,
    "start_time": "2025-05-09T02:41:32.874Z"
   },
   {
    "duration": 54,
    "start_time": "2025-05-09T02:41:32.952Z"
   },
   {
    "duration": 15,
    "start_time": "2025-05-09T02:41:33.007Z"
   },
   {
    "duration": 1720,
    "start_time": "2025-05-09T02:41:33.024Z"
   },
   {
    "duration": 305,
    "start_time": "2025-05-09T02:41:54.697Z"
   },
   {
    "duration": 1279,
    "start_time": "2025-05-09T02:42:00.808Z"
   },
   {
    "duration": 1241,
    "start_time": "2025-05-09T02:44:23.348Z"
   },
   {
    "duration": 204,
    "start_time": "2025-05-09T02:44:40.352Z"
   },
   {
    "duration": 1235,
    "start_time": "2025-05-09T02:44:50.538Z"
   },
   {
    "duration": 762,
    "start_time": "2025-05-11T21:18:39.918Z"
   },
   {
    "duration": 201,
    "start_time": "2025-05-11T21:18:40.682Z"
   },
   {
    "duration": 322,
    "start_time": "2025-05-11T21:18:40.885Z"
   },
   {
    "duration": 21,
    "start_time": "2025-05-11T21:18:41.209Z"
   },
   {
    "duration": 8,
    "start_time": "2025-05-11T21:18:41.232Z"
   },
   {
    "duration": 270,
    "start_time": "2025-05-11T21:18:41.241Z"
   },
   {
    "duration": 98,
    "start_time": "2025-05-11T21:18:41.513Z"
   },
   {
    "duration": 8,
    "start_time": "2025-05-11T21:18:41.612Z"
   },
   {
    "duration": 60,
    "start_time": "2025-05-11T21:18:41.621Z"
   },
   {
    "duration": 5,
    "start_time": "2025-05-11T21:18:41.685Z"
   },
   {
    "duration": 9,
    "start_time": "2025-05-11T21:18:41.691Z"
   },
   {
    "duration": 8,
    "start_time": "2025-05-11T21:18:41.702Z"
   },
   {
    "duration": 93,
    "start_time": "2025-05-11T21:18:41.711Z"
   },
   {
    "duration": 41,
    "start_time": "2025-05-11T21:18:41.806Z"
   },
   {
    "duration": 28,
    "start_time": "2025-05-11T21:18:41.849Z"
   },
   {
    "duration": 3543,
    "start_time": "2025-05-11T21:18:41.879Z"
   },
   {
    "duration": 146,
    "start_time": "2025-05-11T21:23:11.560Z"
   },
   {
    "duration": 1233,
    "start_time": "2025-05-11T21:24:50.533Z"
   },
   {
    "duration": 1254,
    "start_time": "2025-05-11T21:25:52.783Z"
   },
   {
    "duration": 1285,
    "start_time": "2025-05-11T21:26:08.705Z"
   },
   {
    "duration": 1312,
    "start_time": "2025-05-11T21:26:19.960Z"
   },
   {
    "duration": 296,
    "start_time": "2025-05-11T21:30:25.731Z"
   },
   {
    "duration": 1236,
    "start_time": "2025-05-11T21:30:37.336Z"
   },
   {
    "duration": 1356,
    "start_time": "2025-05-11T21:34:00.031Z"
   },
   {
    "duration": 292,
    "start_time": "2025-05-11T21:34:32.256Z"
   },
   {
    "duration": 301,
    "start_time": "2025-05-11T21:34:49.602Z"
   },
   {
    "duration": 1601,
    "start_time": "2025-05-11T21:35:02.716Z"
   },
   {
    "duration": 1296,
    "start_time": "2025-05-11T21:35:12.461Z"
   },
   {
    "duration": 1299,
    "start_time": "2025-05-11T21:38:20.303Z"
   },
   {
    "duration": 218,
    "start_time": "2025-05-11T21:42:12.596Z"
   },
   {
    "duration": 108,
    "start_time": "2025-05-11T21:42:17.930Z"
   },
   {
    "duration": 112,
    "start_time": "2025-05-11T21:43:04.025Z"
   },
   {
    "duration": 442,
    "start_time": "2025-05-11T21:53:35.401Z"
   },
   {
    "duration": 15,
    "start_time": "2025-05-11T21:54:51.145Z"
   },
   {
    "duration": 125,
    "start_time": "2025-05-11T22:19:46.171Z"
   },
   {
    "duration": 186,
    "start_time": "2025-05-11T22:19:53.472Z"
   },
   {
    "duration": 122,
    "start_time": "2025-05-11T22:20:05.252Z"
   },
   {
    "duration": 274,
    "start_time": "2025-05-11T22:25:14.087Z"
   },
   {
    "duration": 160,
    "start_time": "2025-05-11T22:25:43.490Z"
   },
   {
    "duration": 171,
    "start_time": "2025-05-11T22:25:57.103Z"
   },
   {
    "duration": 284,
    "start_time": "2025-05-11T22:30:06.764Z"
   },
   {
    "duration": 108,
    "start_time": "2025-05-11T22:37:25.883Z"
   },
   {
    "duration": 28,
    "start_time": "2025-05-11T22:38:48.174Z"
   },
   {
    "duration": 31,
    "start_time": "2025-05-11T22:39:48.048Z"
   },
   {
    "duration": 36,
    "start_time": "2025-05-11T22:39:56.766Z"
   },
   {
    "duration": 6,
    "start_time": "2025-05-11T22:40:21.644Z"
   },
   {
    "duration": 115,
    "start_time": "2025-05-11T22:41:52.230Z"
   },
   {
    "duration": 165,
    "start_time": "2025-05-11T22:57:04.209Z"
   },
   {
    "duration": 150,
    "start_time": "2025-05-11T22:57:38.518Z"
   },
   {
    "duration": 141,
    "start_time": "2025-05-11T22:58:03.250Z"
   },
   {
    "duration": 2749,
    "start_time": "2025-05-11T23:02:30.134Z"
   },
   {
    "duration": 660,
    "start_time": "2025-05-11T23:34:52.749Z"
   },
   {
    "duration": 205,
    "start_time": "2025-05-11T23:34:53.411Z"
   },
   {
    "duration": 309,
    "start_time": "2025-05-11T23:34:53.618Z"
   },
   {
    "duration": 21,
    "start_time": "2025-05-11T23:34:53.930Z"
   },
   {
    "duration": 27,
    "start_time": "2025-05-11T23:34:53.953Z"
   },
   {
    "duration": 266,
    "start_time": "2025-05-11T23:34:53.982Z"
   },
   {
    "duration": 107,
    "start_time": "2025-05-11T23:34:54.250Z"
   },
   {
    "duration": 54,
    "start_time": "2025-05-11T23:34:54.358Z"
   },
   {
    "duration": 6,
    "start_time": "2025-05-11T23:34:54.414Z"
   },
   {
    "duration": 8,
    "start_time": "2025-05-11T23:34:54.423Z"
   },
   {
    "duration": 95,
    "start_time": "2025-05-11T23:34:54.432Z"
   },
   {
    "duration": 47,
    "start_time": "2025-05-11T23:34:54.529Z"
   },
   {
    "duration": 15,
    "start_time": "2025-05-11T23:34:54.578Z"
   },
   {
    "duration": 203,
    "start_time": "2025-05-11T23:34:54.596Z"
   },
   {
    "duration": 0,
    "start_time": "2025-05-11T23:34:54.801Z"
   },
   {
    "duration": 0,
    "start_time": "2025-05-11T23:34:54.802Z"
   },
   {
    "duration": 0,
    "start_time": "2025-05-11T23:34:54.804Z"
   },
   {
    "duration": 0,
    "start_time": "2025-05-11T23:34:54.805Z"
   },
   {
    "duration": 0,
    "start_time": "2025-05-11T23:34:54.806Z"
   },
   {
    "duration": 0,
    "start_time": "2025-05-11T23:34:54.808Z"
   },
   {
    "duration": 0,
    "start_time": "2025-05-11T23:34:54.809Z"
   },
   {
    "duration": 1813,
    "start_time": "2025-05-11T23:35:29.361Z"
   },
   {
    "duration": 1206,
    "start_time": "2025-05-11T23:35:46.446Z"
   },
   {
    "duration": 1195,
    "start_time": "2025-05-11T23:35:54.136Z"
   },
   {
    "duration": 688,
    "start_time": "2025-05-11T23:36:00.831Z"
   },
   {
    "duration": 196,
    "start_time": "2025-05-11T23:36:01.522Z"
   },
   {
    "duration": 310,
    "start_time": "2025-05-11T23:36:01.720Z"
   },
   {
    "duration": 21,
    "start_time": "2025-05-11T23:36:02.033Z"
   },
   {
    "duration": 21,
    "start_time": "2025-05-11T23:36:02.055Z"
   },
   {
    "duration": 260,
    "start_time": "2025-05-11T23:36:02.078Z"
   },
   {
    "duration": 101,
    "start_time": "2025-05-11T23:36:02.340Z"
   },
   {
    "duration": 54,
    "start_time": "2025-05-11T23:36:02.443Z"
   },
   {
    "duration": 6,
    "start_time": "2025-05-11T23:36:02.499Z"
   },
   {
    "duration": 8,
    "start_time": "2025-05-11T23:36:02.509Z"
   },
   {
    "duration": 95,
    "start_time": "2025-05-11T23:36:02.519Z"
   },
   {
    "duration": 42,
    "start_time": "2025-05-11T23:36:02.616Z"
   },
   {
    "duration": 23,
    "start_time": "2025-05-11T23:36:02.660Z"
   },
   {
    "duration": 1755,
    "start_time": "2025-05-11T23:36:02.685Z"
   },
   {
    "duration": 125,
    "start_time": "2025-05-11T23:36:04.442Z"
   },
   {
    "duration": 15,
    "start_time": "2025-05-11T23:36:04.569Z"
   },
   {
    "duration": 226,
    "start_time": "2025-05-11T23:36:04.586Z"
   },
   {
    "duration": 288,
    "start_time": "2025-05-11T23:36:04.813Z"
   },
   {
    "duration": 123,
    "start_time": "2025-05-11T23:36:05.103Z"
   },
   {
    "duration": 161,
    "start_time": "2025-05-11T23:36:05.228Z"
   },
   {
    "duration": 2631,
    "start_time": "2025-05-11T23:36:05.390Z"
   },
   {
    "duration": 22,
    "start_time": "2025-05-11T23:39:40.324Z"
   },
   {
    "duration": 21,
    "start_time": "2025-05-11T23:39:46.866Z"
   },
   {
    "duration": 20,
    "start_time": "2025-05-11T23:39:54.136Z"
   },
   {
    "duration": 8,
    "start_time": "2025-05-11T23:48:26.002Z"
   },
   {
    "duration": 8,
    "start_time": "2025-05-11T23:48:37.415Z"
   },
   {
    "duration": 759,
    "start_time": "2025-05-11T23:53:25.926Z"
   },
   {
    "duration": 849,
    "start_time": "2025-05-11T23:55:58.060Z"
   },
   {
    "duration": 254,
    "start_time": "2025-05-11T23:59:06.459Z"
   },
   {
    "duration": 70,
    "start_time": "2025-05-12T00:00:02.029Z"
   },
   {
    "duration": 88,
    "start_time": "2025-05-12T00:00:16.837Z"
   },
   {
    "duration": 89,
    "start_time": "2025-05-12T00:00:29.754Z"
   },
   {
    "duration": 2100,
    "start_time": "2025-05-12T00:08:39.178Z"
   },
   {
    "duration": 2092,
    "start_time": "2025-05-12T00:11:06.988Z"
   },
   {
    "duration": 87,
    "start_time": "2025-05-12T00:11:37.461Z"
   },
   {
    "duration": 2109,
    "start_time": "2025-05-12T00:11:54.482Z"
   },
   {
    "duration": 100,
    "start_time": "2025-05-12T00:16:24.725Z"
   },
   {
    "duration": 103,
    "start_time": "2025-05-12T00:17:07.813Z"
   },
   {
    "duration": 103,
    "start_time": "2025-05-12T00:21:30.327Z"
   },
   {
    "duration": 107,
    "start_time": "2025-05-12T00:21:47.095Z"
   },
   {
    "duration": 100,
    "start_time": "2025-05-12T00:22:02.846Z"
   },
   {
    "duration": 100,
    "start_time": "2025-05-12T00:24:15.097Z"
   },
   {
    "duration": 9,
    "start_time": "2025-05-12T00:26:46.289Z"
   },
   {
    "duration": 101,
    "start_time": "2025-05-12T00:27:58.359Z"
   },
   {
    "duration": 102,
    "start_time": "2025-05-12T00:33:54.498Z"
   },
   {
    "duration": 102,
    "start_time": "2025-05-12T00:41:42.417Z"
   },
   {
    "duration": 100,
    "start_time": "2025-05-12T00:42:26.128Z"
   },
   {
    "duration": 687,
    "start_time": "2025-05-12T00:43:18.220Z"
   },
   {
    "duration": 231,
    "start_time": "2025-05-12T00:43:55.228Z"
   },
   {
    "duration": 44,
    "start_time": "2025-05-12T00:46:27.244Z"
   },
   {
    "duration": 96,
    "start_time": "2025-05-12T00:46:48.011Z"
   },
   {
    "duration": 100,
    "start_time": "2025-05-12T00:46:58.200Z"
   },
   {
    "duration": 77,
    "start_time": "2025-05-12T00:47:48.510Z"
   },
   {
    "duration": 45,
    "start_time": "2025-05-12T00:48:19.163Z"
   },
   {
    "duration": 142,
    "start_time": "2025-05-12T01:04:34.533Z"
   },
   {
    "duration": 103,
    "start_time": "2025-05-12T01:05:07.535Z"
   },
   {
    "duration": 58,
    "start_time": "2025-05-12T01:11:33.662Z"
   },
   {
    "duration": 10,
    "start_time": "2025-05-12T01:12:35.234Z"
   },
   {
    "duration": 178,
    "start_time": "2025-05-12T01:12:58.899Z"
   },
   {
    "duration": 69,
    "start_time": "2025-05-12T01:13:25.889Z"
   },
   {
    "duration": 67,
    "start_time": "2025-05-12T01:21:07.403Z"
   },
   {
    "duration": 119,
    "start_time": "2025-05-12T01:22:26.759Z"
   },
   {
    "duration": 102,
    "start_time": "2025-05-12T01:22:35.993Z"
   },
   {
    "duration": 70,
    "start_time": "2025-05-12T01:23:09.633Z"
   },
   {
    "duration": 89,
    "start_time": "2025-05-12T01:24:51.348Z"
   },
   {
    "duration": 10,
    "start_time": "2025-05-12T01:25:41.167Z"
   },
   {
    "duration": 85,
    "start_time": "2025-05-12T01:27:52.428Z"
   },
   {
    "duration": 10,
    "start_time": "2025-05-12T01:28:05.241Z"
   },
   {
    "duration": 15,
    "start_time": "2025-05-12T01:28:16.203Z"
   },
   {
    "duration": 9,
    "start_time": "2025-05-12T01:28:18.450Z"
   },
   {
    "duration": 11,
    "start_time": "2025-05-12T01:28:29.960Z"
   },
   {
    "duration": 8,
    "start_time": "2025-05-12T01:30:22.684Z"
   },
   {
    "duration": 11,
    "start_time": "2025-05-12T01:30:24.559Z"
   },
   {
    "duration": 80,
    "start_time": "2025-05-12T01:31:14.130Z"
   },
   {
    "duration": 8,
    "start_time": "2025-05-12T01:31:25.704Z"
   },
   {
    "duration": 74,
    "start_time": "2025-05-12T01:31:50.754Z"
   },
   {
    "duration": 11,
    "start_time": "2025-05-12T01:32:20.894Z"
   },
   {
    "duration": 22,
    "start_time": "2025-05-12T01:33:37.302Z"
   },
   {
    "duration": 21,
    "start_time": "2025-05-12T01:33:47.531Z"
   },
   {
    "duration": 21,
    "start_time": "2025-05-12T01:33:52.098Z"
   },
   {
    "duration": 153,
    "start_time": "2025-05-12T01:34:12.084Z"
   },
   {
    "duration": 25,
    "start_time": "2025-05-12T01:34:55.582Z"
   },
   {
    "duration": 30,
    "start_time": "2025-05-12T01:35:07.658Z"
   },
   {
    "duration": 34,
    "start_time": "2025-05-12T01:36:04.361Z"
   },
   {
    "duration": 718,
    "start_time": "2025-05-12T01:36:17.008Z"
   },
   {
    "duration": 199,
    "start_time": "2025-05-12T01:36:17.728Z"
   },
   {
    "duration": 323,
    "start_time": "2025-05-12T01:36:17.929Z"
   },
   {
    "duration": 30,
    "start_time": "2025-05-12T01:36:18.253Z"
   },
   {
    "duration": 9,
    "start_time": "2025-05-12T01:36:18.285Z"
   },
   {
    "duration": 267,
    "start_time": "2025-05-12T01:36:18.295Z"
   },
   {
    "duration": 113,
    "start_time": "2025-05-12T01:36:18.569Z"
   },
   {
    "duration": 47,
    "start_time": "2025-05-12T01:36:18.683Z"
   },
   {
    "duration": 39,
    "start_time": "2025-05-12T01:36:18.732Z"
   },
   {
    "duration": 189,
    "start_time": "2025-05-12T01:36:18.773Z"
   },
   {
    "duration": 0,
    "start_time": "2025-05-12T01:36:18.970Z"
   },
   {
    "duration": 0,
    "start_time": "2025-05-12T01:36:18.971Z"
   },
   {
    "duration": 0,
    "start_time": "2025-05-12T01:36:18.973Z"
   },
   {
    "duration": 0,
    "start_time": "2025-05-12T01:36:18.974Z"
   },
   {
    "duration": 0,
    "start_time": "2025-05-12T01:36:18.975Z"
   },
   {
    "duration": 0,
    "start_time": "2025-05-12T01:36:18.976Z"
   },
   {
    "duration": 0,
    "start_time": "2025-05-12T01:36:18.977Z"
   },
   {
    "duration": 0,
    "start_time": "2025-05-12T01:36:18.978Z"
   },
   {
    "duration": 0,
    "start_time": "2025-05-12T01:36:18.979Z"
   },
   {
    "duration": 0,
    "start_time": "2025-05-12T01:36:18.980Z"
   },
   {
    "duration": 0,
    "start_time": "2025-05-12T01:36:18.982Z"
   },
   {
    "duration": 0,
    "start_time": "2025-05-12T01:36:18.983Z"
   },
   {
    "duration": 0,
    "start_time": "2025-05-12T01:36:18.984Z"
   },
   {
    "duration": 348,
    "start_time": "2025-05-12T01:36:49.578Z"
   },
   {
    "duration": 692,
    "start_time": "2025-05-12T01:36:56.442Z"
   },
   {
    "duration": 221,
    "start_time": "2025-05-12T01:36:57.136Z"
   },
   {
    "duration": 321,
    "start_time": "2025-05-12T01:36:57.358Z"
   },
   {
    "duration": 25,
    "start_time": "2025-05-12T01:36:57.681Z"
   },
   {
    "duration": 9,
    "start_time": "2025-05-12T01:36:57.710Z"
   },
   {
    "duration": 271,
    "start_time": "2025-05-12T01:36:57.721Z"
   },
   {
    "duration": 115,
    "start_time": "2025-05-12T01:36:57.994Z"
   },
   {
    "duration": 44,
    "start_time": "2025-05-12T01:36:58.111Z"
   },
   {
    "duration": 536,
    "start_time": "2025-05-12T01:36:58.157Z"
   },
   {
    "duration": 0,
    "start_time": "2025-05-12T01:36:58.695Z"
   },
   {
    "duration": 0,
    "start_time": "2025-05-12T01:36:58.697Z"
   },
   {
    "duration": 0,
    "start_time": "2025-05-12T01:36:58.698Z"
   },
   {
    "duration": 0,
    "start_time": "2025-05-12T01:36:58.699Z"
   },
   {
    "duration": 0,
    "start_time": "2025-05-12T01:36:58.700Z"
   },
   {
    "duration": 0,
    "start_time": "2025-05-12T01:36:58.701Z"
   },
   {
    "duration": 0,
    "start_time": "2025-05-12T01:36:58.702Z"
   },
   {
    "duration": 0,
    "start_time": "2025-05-12T01:36:58.703Z"
   },
   {
    "duration": 0,
    "start_time": "2025-05-12T01:36:58.704Z"
   },
   {
    "duration": 0,
    "start_time": "2025-05-12T01:36:58.705Z"
   },
   {
    "duration": 0,
    "start_time": "2025-05-12T01:36:58.706Z"
   },
   {
    "duration": 0,
    "start_time": "2025-05-12T01:36:58.707Z"
   },
   {
    "duration": 0,
    "start_time": "2025-05-12T01:36:58.708Z"
   },
   {
    "duration": 0,
    "start_time": "2025-05-12T01:36:58.709Z"
   },
   {
    "duration": 682,
    "start_time": "2025-05-12T01:37:34.036Z"
   },
   {
    "duration": 205,
    "start_time": "2025-05-12T01:37:34.720Z"
   },
   {
    "duration": 306,
    "start_time": "2025-05-12T01:37:34.928Z"
   },
   {
    "duration": 22,
    "start_time": "2025-05-12T01:37:35.236Z"
   },
   {
    "duration": 16,
    "start_time": "2025-05-12T01:37:35.260Z"
   },
   {
    "duration": 269,
    "start_time": "2025-05-12T01:37:35.278Z"
   },
   {
    "duration": 118,
    "start_time": "2025-05-12T01:37:35.549Z"
   },
   {
    "duration": 2,
    "start_time": "2025-05-12T01:37:35.669Z"
   },
   {
    "duration": 33,
    "start_time": "2025-05-12T01:37:35.673Z"
   },
   {
    "duration": 201,
    "start_time": "2025-05-12T01:37:35.708Z"
   },
   {
    "duration": 0,
    "start_time": "2025-05-12T01:37:35.911Z"
   },
   {
    "duration": 0,
    "start_time": "2025-05-12T01:37:35.912Z"
   },
   {
    "duration": 1,
    "start_time": "2025-05-12T01:37:35.913Z"
   },
   {
    "duration": 0,
    "start_time": "2025-05-12T01:37:35.915Z"
   },
   {
    "duration": 0,
    "start_time": "2025-05-12T01:37:35.917Z"
   },
   {
    "duration": 0,
    "start_time": "2025-05-12T01:37:35.918Z"
   },
   {
    "duration": 0,
    "start_time": "2025-05-12T01:37:35.920Z"
   },
   {
    "duration": 0,
    "start_time": "2025-05-12T01:37:35.920Z"
   },
   {
    "duration": 0,
    "start_time": "2025-05-12T01:37:35.921Z"
   },
   {
    "duration": 0,
    "start_time": "2025-05-12T01:37:35.922Z"
   },
   {
    "duration": 0,
    "start_time": "2025-05-12T01:37:35.924Z"
   },
   {
    "duration": 0,
    "start_time": "2025-05-12T01:37:35.925Z"
   },
   {
    "duration": 0,
    "start_time": "2025-05-12T01:37:35.927Z"
   },
   {
    "duration": 27,
    "start_time": "2025-05-12T01:40:20.273Z"
   },
   {
    "duration": 200,
    "start_time": "2025-05-12T01:40:40.408Z"
   },
   {
    "duration": 1620,
    "start_time": "2025-05-12T01:40:51.490Z"
   },
   {
    "duration": 167,
    "start_time": "2025-05-12T02:54:10.685Z"
   },
   {
    "duration": 734,
    "start_time": "2025-05-12T02:54:18.302Z"
   },
   {
    "duration": 207,
    "start_time": "2025-05-12T02:54:19.038Z"
   },
   {
    "duration": 313,
    "start_time": "2025-05-12T02:54:19.247Z"
   },
   {
    "duration": 24,
    "start_time": "2025-05-12T02:54:19.562Z"
   },
   {
    "duration": 9,
    "start_time": "2025-05-12T02:54:19.589Z"
   },
   {
    "duration": 269,
    "start_time": "2025-05-12T02:54:19.599Z"
   },
   {
    "duration": 113,
    "start_time": "2025-05-12T02:54:19.870Z"
   },
   {
    "duration": 41,
    "start_time": "2025-05-12T02:54:19.985Z"
   },
   {
    "duration": 3524,
    "start_time": "2025-05-12T02:54:20.028Z"
   },
   {
    "duration": 551,
    "start_time": "2025-05-12T02:54:23.554Z"
   },
   {
    "duration": 0,
    "start_time": "2025-05-12T02:54:24.107Z"
   },
   {
    "duration": 0,
    "start_time": "2025-05-12T02:54:24.108Z"
   },
   {
    "duration": 0,
    "start_time": "2025-05-12T02:54:24.109Z"
   },
   {
    "duration": 0,
    "start_time": "2025-05-12T02:54:24.110Z"
   },
   {
    "duration": 0,
    "start_time": "2025-05-12T02:54:24.111Z"
   },
   {
    "duration": 0,
    "start_time": "2025-05-12T02:54:24.112Z"
   },
   {
    "duration": 0,
    "start_time": "2025-05-12T02:54:24.112Z"
   },
   {
    "duration": 0,
    "start_time": "2025-05-12T02:54:24.113Z"
   },
   {
    "duration": 0,
    "start_time": "2025-05-12T02:54:24.113Z"
   },
   {
    "duration": 0,
    "start_time": "2025-05-12T02:54:24.114Z"
   },
   {
    "duration": 0,
    "start_time": "2025-05-12T02:54:24.114Z"
   },
   {
    "duration": 0,
    "start_time": "2025-05-12T02:54:24.119Z"
   },
   {
    "duration": 12,
    "start_time": "2025-05-12T02:55:49.413Z"
   },
   {
    "duration": 4,
    "start_time": "2025-05-12T02:56:28.824Z"
   },
   {
    "duration": 3,
    "start_time": "2025-05-12T02:56:36.442Z"
   },
   {
    "duration": 8,
    "start_time": "2025-05-12T02:57:38.985Z"
   },
   {
    "duration": 6,
    "start_time": "2025-05-12T02:58:06.230Z"
   },
   {
    "duration": 3,
    "start_time": "2025-05-12T02:58:20.118Z"
   },
   {
    "duration": 24,
    "start_time": "2025-05-12T03:13:33.466Z"
   },
   {
    "duration": 28,
    "start_time": "2025-05-12T03:14:22.471Z"
   },
   {
    "duration": 17,
    "start_time": "2025-05-12T03:14:54.958Z"
   },
   {
    "duration": 72,
    "start_time": "2025-05-12T03:16:42.953Z"
   },
   {
    "duration": 59,
    "start_time": "2025-05-12T03:17:08.358Z"
   },
   {
    "duration": 60,
    "start_time": "2025-05-12T03:20:18.261Z"
   },
   {
    "duration": 89,
    "start_time": "2025-05-12T03:24:56.506Z"
   },
   {
    "duration": 46,
    "start_time": "2025-05-12T03:24:59.986Z"
   },
   {
    "duration": 82,
    "start_time": "2025-05-12T03:26:18.491Z"
   },
   {
    "duration": 675,
    "start_time": "2025-05-12T03:26:51.910Z"
   },
   {
    "duration": 196,
    "start_time": "2025-05-12T03:26:52.587Z"
   },
   {
    "duration": 310,
    "start_time": "2025-05-12T03:26:52.784Z"
   },
   {
    "duration": 29,
    "start_time": "2025-05-12T03:26:53.097Z"
   },
   {
    "duration": 9,
    "start_time": "2025-05-12T03:26:53.128Z"
   },
   {
    "duration": 261,
    "start_time": "2025-05-12T03:26:53.138Z"
   },
   {
    "duration": 110,
    "start_time": "2025-05-12T03:26:53.401Z"
   },
   {
    "duration": 33,
    "start_time": "2025-05-12T03:26:53.519Z"
   },
   {
    "duration": 1790,
    "start_time": "2025-05-12T03:26:53.554Z"
   },
   {
    "duration": 9,
    "start_time": "2025-05-12T03:26:55.347Z"
   },
   {
    "duration": 3,
    "start_time": "2025-05-12T03:26:55.358Z"
   },
   {
    "duration": 69,
    "start_time": "2025-05-12T03:26:55.363Z"
   },
   {
    "duration": 10,
    "start_time": "2025-05-12T03:26:55.434Z"
   },
   {
    "duration": 53,
    "start_time": "2025-05-12T03:26:55.446Z"
   },
   {
    "duration": 223,
    "start_time": "2025-05-12T03:26:55.520Z"
   },
   {
    "duration": 0,
    "start_time": "2025-05-12T03:26:55.744Z"
   },
   {
    "duration": 0,
    "start_time": "2025-05-12T03:26:55.745Z"
   },
   {
    "duration": 0,
    "start_time": "2025-05-12T03:26:55.747Z"
   },
   {
    "duration": 0,
    "start_time": "2025-05-12T03:26:55.749Z"
   },
   {
    "duration": 0,
    "start_time": "2025-05-12T03:26:55.750Z"
   },
   {
    "duration": 0,
    "start_time": "2025-05-12T03:26:55.752Z"
   },
   {
    "duration": 0,
    "start_time": "2025-05-12T03:26:55.753Z"
   },
   {
    "duration": 0,
    "start_time": "2025-05-12T03:26:55.753Z"
   },
   {
    "duration": 98,
    "start_time": "2025-05-12T03:27:15.777Z"
   },
   {
    "duration": 92,
    "start_time": "2025-05-12T03:29:17.629Z"
   },
   {
    "duration": 15,
    "start_time": "2025-05-12T03:30:49.974Z"
   },
   {
    "duration": 56,
    "start_time": "2025-05-12T03:31:18.204Z"
   },
   {
    "duration": 59,
    "start_time": "2025-05-12T03:33:36.498Z"
   },
   {
    "duration": 48,
    "start_time": "2025-05-12T03:33:45.491Z"
   },
   {
    "duration": 15,
    "start_time": "2025-05-12T03:34:04.821Z"
   }
  ],
  "kernelspec": {
   "display_name": "Python 3 (ipykernel)",
   "language": "python",
   "name": "python3"
  },
  "language_info": {
   "codemirror_mode": {
    "name": "ipython",
    "version": 3
   },
   "file_extension": ".py",
   "mimetype": "text/x-python",
   "name": "python",
   "nbconvert_exporter": "python",
   "pygments_lexer": "ipython3",
   "version": "3.9.22"
  },
  "toc": {
   "base_numbering": 1,
   "nav_menu": {},
   "number_sections": true,
   "sideBar": true,
   "skip_h1_title": true,
   "title_cell": "Table of Contents",
   "title_sidebar": "Contents",
   "toc_cell": false,
   "toc_position": {},
   "toc_section_display": true,
   "toc_window_display": false
  }
 },
 "nbformat": 4,
 "nbformat_minor": 4
}
